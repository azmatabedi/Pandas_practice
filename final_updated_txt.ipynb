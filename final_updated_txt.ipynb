{
  "nbformat": 4,
  "nbformat_minor": 0,
  "metadata": {
    "kernelspec": {
      "display_name": "Python 3",
      "language": "python",
      "name": "python3"
    },
    "language_info": {
      "codemirror_mode": {
        "name": "ipython",
        "version": 3
      },
      "file_extension": ".py",
      "mimetype": "text/x-python",
      "name": "python",
      "nbconvert_exporter": "python",
      "pygments_lexer": "ipython3",
      "version": "3.7.6"
    },
    "latex_envs": {
      "LaTeX_envs_menu_present": true,
      "autoclose": false,
      "autocomplete": true,
      "bibliofile": "biblio.bib",
      "cite_by": "apalike",
      "current_citInitial": 1,
      "eqLabelWithNumbers": true,
      "eqNumInitial": 1,
      "hotkeys": {
        "equation": "Ctrl-E",
        "itemize": "Ctrl-I"
      },
      "labels_anchors": false,
      "latex_user_defs": false,
      "report_style_numbering": false,
      "user_envs_cfg": false
    },
    "toc": {
      "base_numbering": 1,
      "nav_menu": {},
      "number_sections": true,
      "sideBar": true,
      "skip_h1_title": false,
      "title_cell": "Table of Contents",
      "title_sidebar": "Contents",
      "toc_cell": false,
      "toc_position": {},
      "toc_section_display": true,
      "toc_window_display": false
    },
    "colab": {
      "name": "final_updated.txt",
      "provenance": []
    }
  },
  "cells": [
    {
      "cell_type": "code",
      "metadata": {
        "ExecuteTime": {
          "end_time": "2019-05-18T17:50:57.096477Z",
          "start_time": "2019-05-18T17:50:57.081512Z"
        },
        "hide_input": true,
        "id": "0iSApaJ5qrBo"
      },
      "source": [
        "from IPython.core.display import HTML\n",
        "HTML('''\n",
        "<script>\n",
        "var logoParent = document.getElementById(\"kernel_logo_widget\")\n",
        "var logo = document.getElementById(\"kernel_logo_widget\").getElementsByClassName(\"current_kernel_logo\")[0];\n",
        "logo.src = \"https://i.ibb.co/mD4jTGQ/itclogo.jpg\";\n",
        "logo.style = \"display: inline; width:138px; height:40px\";\n",
        "logoParent.innerHTML = '<a href=\"https://i.ibb.co/mD4jTGQ/itclogo.jpg\">' + logoParent.innerHTML + '</a>';\n",
        "</script>\n",
        "''')"
      ],
      "execution_count": null,
      "outputs": []
    },
    {
      "cell_type": "markdown",
      "metadata": {
        "ExecuteTime": {
          "end_time": "2019-05-14T15:58:51.942803Z",
          "start_time": "2019-05-14T15:58:51.928167Z"
        },
        "id": "r8mklNLZqrBq"
      },
      "source": [
        "<font size=\"36\"><b>Pandas - Assignment 2</b></font> <img src = \"https://s3-ap-south-1.amazonaws.com/av-blog-media/wp-content/uploads/2018/03/pandas.jpg\" height=200 width=200>"
      ]
    },
    {
      "cell_type": "code",
      "metadata": {
        "ExecuteTime": {
          "end_time": "2019-05-18T16:22:15.100628Z",
          "start_time": "2019-05-18T16:22:14.696678Z"
        },
        "id": "loPb4100qrBq"
      },
      "source": [
        "import pandas as pd\n",
        "import numpy as np"
      ],
      "execution_count": 2,
      "outputs": []
    },
    {
      "cell_type": "markdown",
      "metadata": {
        "id": "UhlRLsWaqrBr"
      },
      "source": [
        "# Topic - Strings"
      ]
    },
    {
      "cell_type": "markdown",
      "metadata": {
        "id": "lmbCZ6snqrBr"
      },
      "source": [
        "## Question 1"
      ]
    },
    {
      "cell_type": "markdown",
      "metadata": {
        "id": "9kTCfYqDqrBr"
      },
      "source": [
        "Calculate the number of characters in each value in a pandas series in a few ways:\n",
        "- Using `map` function\n",
        "- Using `apply` function\n",
        "- Using built-in Pandas way using `.str` on the Series - the preferred way of working with Strings in Pandas DataFrames"
      ]
    },
    {
      "cell_type": "code",
      "metadata": {
        "colab": {
          "base_uri": "https://localhost:8080/"
        },
        "id": "byY3Ky_0qrBr",
        "outputId": "5f33971e-5cac-4968-8291-b9794280462a"
      },
      "source": [
        "def length(series):\n",
        "  return len(series)\n",
        "series_q1 = pd.Series(['This', 'is', 'a', 'string', 'with', 'words'])\n",
        "Length=map(length,series_q1)\n",
        "list(Length)\n",
        "\n",
        "#your code here"
      ],
      "execution_count": 19,
      "outputs": [
        {
          "output_type": "execute_result",
          "data": {
            "text/plain": [
              "[4, 2, 1, 6, 4, 5]"
            ]
          },
          "metadata": {
            "tags": []
          },
          "execution_count": 19
        }
      ]
    },
    {
      "cell_type": "markdown",
      "metadata": {
        "id": "OID5vR8SqrBs"
      },
      "source": [
        "## Question 2"
      ]
    },
    {
      "cell_type": "markdown",
      "metadata": {
        "id": "I_5PI2imqrBs"
      },
      "source": [
        "Change the first character of each word to upper case in each word of the given pandas series. \n",
        "Do it in 3 different ways:\n",
        "1. Using built-in functions of `Series.str` - usually the preferred way\n",
        "1. Using `map` or `apply` without defining your own function / lambda\n",
        "1. Using `map` or `apply` with defining your own function / lambda"
      ]
    },
    {
      "cell_type": "code",
      "metadata": {
        "ExecuteTime": {
          "end_time": "2019-05-18T16:07:14.185651Z",
          "start_time": "2019-05-18T16:07:14.175721Z"
        },
        "colab": {
          "base_uri": "https://localhost:8080/"
        },
        "id": "0MqcnralqrBt",
        "outputId": "02d5b3a7-0a69-46f3-e267-f9d476d873c5"
      },
      "source": [
        "series_q2 = pd.Series(['we', 'are', 'at', 'the', 'campus', 'learning', 'pandas'])\n",
        "new_series=series_q2.map(lambda x: x[0].upper()+x[1:len(x)])\n",
        "print(new_series)"
      ],
      "execution_count": 20,
      "outputs": [
        {
          "output_type": "stream",
          "text": [
            "0          We\n",
            "1         Are\n",
            "2          At\n",
            "3         The\n",
            "4      Campus\n",
            "5    Learning\n",
            "6      Pandas\n",
            "dtype: object\n"
          ],
          "name": "stdout"
        }
      ]
    },
    {
      "cell_type": "markdown",
      "metadata": {
        "id": "Zq2yB0qTqrBt"
      },
      "source": [
        "## Question 3"
      ]
    },
    {
      "cell_type": "markdown",
      "metadata": {
        "id": "ybZsPHFnqrBt"
      },
      "source": [
        "Split the string column in a dataframe to form a dataframe with 3 columns named  \"STD\", \"City\", and \"State\" and fix the column names "
      ]
    },
    {
      "cell_type": "code",
      "metadata": {
        "ExecuteTime": {
          "end_time": "2019-05-18T17:32:12.809399Z",
          "start_time": "2019-05-18T17:32:12.796436Z"
        },
        "scrolled": true,
        "colab": {
          "base_uri": "https://localhost:8080/",
          "height": 172
        },
        "id": "adgXt52fqrBu",
        "outputId": "9ed1bb7c-b67a-4525-9508-9d951c9d93b7"
      },
      "source": [
        "df_q3 = pd.DataFrame([\"STD,City\\tState\",\n",
        "\"33, Kolkata  West Bengal\",\n",
        "\"44, Chennai  Tamil Nadu\",\n",
        "\"40, Hyderabad  Telengana\",\n",
        "\"80, Bangalore  Karnataka\"], columns=['row'])\n",
        "\n",
        "out = pd.DataFrame(df_q3.row.str.split(' ',2).tolist(),columns=['STD','City','State'])\n",
        "\n",
        "out.drop(index=0,inplace=True)\n",
        "out\n",
        "# Desired Output:\n",
        "#   STD        City        State\n",
        "# 0  33     Kolkata  West Bengal\n",
        "# 1  44     Chennai   Tamil Nadu\n",
        "# 2  40   Hyderabad    Telengana\n",
        "# 3  80   Bangalore    Karnataka\n",
        "\n",
        "#your code here"
      ],
      "execution_count": 21,
      "outputs": [
        {
          "output_type": "execute_result",
          "data": {
            "text/html": [
              "<div>\n",
              "<style scoped>\n",
              "    .dataframe tbody tr th:only-of-type {\n",
              "        vertical-align: middle;\n",
              "    }\n",
              "\n",
              "    .dataframe tbody tr th {\n",
              "        vertical-align: top;\n",
              "    }\n",
              "\n",
              "    .dataframe thead th {\n",
              "        text-align: right;\n",
              "    }\n",
              "</style>\n",
              "<table border=\"1\" class=\"dataframe\">\n",
              "  <thead>\n",
              "    <tr style=\"text-align: right;\">\n",
              "      <th></th>\n",
              "      <th>STD</th>\n",
              "      <th>City</th>\n",
              "      <th>State</th>\n",
              "    </tr>\n",
              "  </thead>\n",
              "  <tbody>\n",
              "    <tr>\n",
              "      <th>1</th>\n",
              "      <td>33,</td>\n",
              "      <td>Kolkata</td>\n",
              "      <td>West Bengal</td>\n",
              "    </tr>\n",
              "    <tr>\n",
              "      <th>2</th>\n",
              "      <td>44,</td>\n",
              "      <td>Chennai</td>\n",
              "      <td>Tamil Nadu</td>\n",
              "    </tr>\n",
              "    <tr>\n",
              "      <th>3</th>\n",
              "      <td>40,</td>\n",
              "      <td>Hyderabad</td>\n",
              "      <td>Telengana</td>\n",
              "    </tr>\n",
              "    <tr>\n",
              "      <th>4</th>\n",
              "      <td>80,</td>\n",
              "      <td>Bangalore</td>\n",
              "      <td>Karnataka</td>\n",
              "    </tr>\n",
              "  </tbody>\n",
              "</table>\n",
              "</div>"
            ],
            "text/plain": [
              "   STD       City         State\n",
              "1  33,    Kolkata   West Bengal\n",
              "2  44,    Chennai    Tamil Nadu\n",
              "3  40,  Hyderabad     Telengana\n",
              "4  80,  Bangalore     Karnataka"
            ]
          },
          "metadata": {
            "tags": []
          },
          "execution_count": 21
        }
      ]
    },
    {
      "cell_type": "markdown",
      "metadata": {
        "id": "zz46T1wEqrBu"
      },
      "source": [
        "# Topic - DateTime"
      ]
    },
    {
      "cell_type": "markdown",
      "metadata": {
        "id": "xwMjiqccqrBu"
      },
      "source": [
        "## Question 4"
      ]
    },
    {
      "cell_type": "markdown",
      "metadata": {
        "id": "eet7VOx6qrBv"
      },
      "source": [
        "Given the following Series with dates, parse them and create a new DataFrame with columns for:\n",
        "- day of month\n",
        "- week number\n",
        "- day of year\n",
        "- day of week\n",
        "\n",
        "Hints:\n",
        "- You can use the `pd.to_datetime` method, or `Series.astype()` to turn the strings to dates\n",
        "- Use the build-in pandas `Series.dt` attributes and methods"
      ]
    },
    {
      "cell_type": "code",
      "metadata": {
        "ExecuteTime": {
          "end_time": "2019-05-18T15:43:25.458440Z",
          "start_time": "2019-05-18T15:43:25.446509Z"
        },
        "colab": {
          "base_uri": "https://localhost:8080/",
          "height": 287
        },
        "id": "lPcZCa8gqrBv",
        "outputId": "ca7273cd-e92d-4728-95cb-6532f6935f91"
      },
      "source": [
        "series_q4 = pd.Series(['01 Jan 2019', '02-02-2019', '20150303', '2013/04/04', '2012-05-05', '2013-06-06T12:20'])\n",
        "#your code here\n",
        "series_q4 = pd.to_datetime(series_q4)\n",
        "day_of_month = series_q4.dt.day\n",
        "list(day_of_month)\n",
        "week_number = series_q4.dt.week\n",
        "day_of_year = series_q4.dt.dayofyear\n",
        "day_of_week = series_q4.dt.dayofweek\n",
        "data = day_of_month,week_number,day_of_year,day_of_week\n",
        "df=pd.DataFrame({'day of month':day_of_month,'week number':week_number,'day of year':day_of_year,'day_of_week':day_of_week})\n",
        "df\n"
      ],
      "execution_count": 22,
      "outputs": [
        {
          "output_type": "stream",
          "text": [
            "/usr/local/lib/python3.7/dist-packages/ipykernel_launcher.py:6: FutureWarning: Series.dt.weekofyear and Series.dt.week have been deprecated.  Please use Series.dt.isocalendar().week instead.\n",
            "  \n"
          ],
          "name": "stderr"
        },
        {
          "output_type": "execute_result",
          "data": {
            "text/html": [
              "<div>\n",
              "<style scoped>\n",
              "    .dataframe tbody tr th:only-of-type {\n",
              "        vertical-align: middle;\n",
              "    }\n",
              "\n",
              "    .dataframe tbody tr th {\n",
              "        vertical-align: top;\n",
              "    }\n",
              "\n",
              "    .dataframe thead th {\n",
              "        text-align: right;\n",
              "    }\n",
              "</style>\n",
              "<table border=\"1\" class=\"dataframe\">\n",
              "  <thead>\n",
              "    <tr style=\"text-align: right;\">\n",
              "      <th></th>\n",
              "      <th>day of month</th>\n",
              "      <th>week number</th>\n",
              "      <th>day of year</th>\n",
              "      <th>day_of_week</th>\n",
              "    </tr>\n",
              "  </thead>\n",
              "  <tbody>\n",
              "    <tr>\n",
              "      <th>0</th>\n",
              "      <td>1</td>\n",
              "      <td>1</td>\n",
              "      <td>1</td>\n",
              "      <td>1</td>\n",
              "    </tr>\n",
              "    <tr>\n",
              "      <th>1</th>\n",
              "      <td>2</td>\n",
              "      <td>5</td>\n",
              "      <td>33</td>\n",
              "      <td>5</td>\n",
              "    </tr>\n",
              "    <tr>\n",
              "      <th>2</th>\n",
              "      <td>3</td>\n",
              "      <td>10</td>\n",
              "      <td>62</td>\n",
              "      <td>1</td>\n",
              "    </tr>\n",
              "    <tr>\n",
              "      <th>3</th>\n",
              "      <td>4</td>\n",
              "      <td>14</td>\n",
              "      <td>94</td>\n",
              "      <td>3</td>\n",
              "    </tr>\n",
              "    <tr>\n",
              "      <th>4</th>\n",
              "      <td>5</td>\n",
              "      <td>18</td>\n",
              "      <td>126</td>\n",
              "      <td>5</td>\n",
              "    </tr>\n",
              "    <tr>\n",
              "      <th>5</th>\n",
              "      <td>6</td>\n",
              "      <td>23</td>\n",
              "      <td>157</td>\n",
              "      <td>3</td>\n",
              "    </tr>\n",
              "  </tbody>\n",
              "</table>\n",
              "</div>"
            ],
            "text/plain": [
              "   day of month  week number  day of year  day_of_week\n",
              "0             1            1            1            1\n",
              "1             2            5           33            5\n",
              "2             3           10           62            1\n",
              "3             4           14           94            3\n",
              "4             5           18          126            5\n",
              "5             6           23          157            3"
            ]
          },
          "metadata": {
            "tags": []
          },
          "execution_count": 22
        }
      ]
    },
    {
      "cell_type": "markdown",
      "metadata": {
        "id": "LZGgwCm8qrBv"
      },
      "source": [
        "## Question 5"
      ]
    },
    {
      "cell_type": "markdown",
      "metadata": {
        "id": "PI8Ke14vqrBv"
      },
      "source": [
        "1. Create a `DatetimeIndex` that contains each business day (Monday - Friday) of 2021 and use it to index a pandas series of random numbers.\n",
        "2. Using the created `DatetimeIndex`, find the **sum** of the values for all the Wednesdays.\n",
        "\n",
        "Hint: check out `pandas.date_range` "
      ]
    },
    {
      "cell_type": "code",
      "metadata": {
        "ExecuteTime": {
          "end_time": "2019-05-18T15:51:55.278002Z",
          "start_time": "2019-05-18T15:51:55.266070Z"
        },
        "scrolled": true,
        "id": "mZQAgdQZqrBv",
        "colab": {
          "base_uri": "https://localhost:8080/"
        },
        "outputId": "37192025-0613-45c6-f3db-5a75811e28fe"
      },
      "source": [
        "#your code here\n",
        "import random\n",
        "arr = []\n",
        "days = pd.date_range('01-01-2021','31-12-2021',freq='B')\n",
        "for i in range(0,len(days)):\n",
        "  n = random.random()\n",
        "  arr.append(n)\n",
        "df = pd.DataFrame({'values':arr})\n",
        "df.set_index(days,inplace=True)\n",
        "df['wed'] = df.index.weekday\n",
        "wednesdays = df[df['wed']==2]\n",
        "print('The Sum is: ',wednesdays['values'].sum())"
      ],
      "execution_count": 23,
      "outputs": [
        {
          "output_type": "stream",
          "text": [
            "The Sum is:  23.50997520435072\n"
          ],
          "name": "stdout"
        }
      ]
    },
    {
      "cell_type": "markdown",
      "metadata": {
        "id": "qS__uybtqrBv"
      },
      "source": [
        "## Question 6 - bins"
      ]
    },
    {
      "cell_type": "markdown",
      "metadata": {
        "id": "IYQ1whqhqrBw"
      },
      "source": [
        "Divide the given pandas series of 500 numbers between 0 and 50 (inclusive) into: \n",
        " 1. 10 bins based on equal **intervals of values in bin**: 10 bins each of interval of values = 5, like bin with values 0 till 5, 5 to 10 etc. (might not come out exactly since depends on actual random numbers)\n",
        " 2. 10 bins based on the distribution with equal **number of elements in bin (bucket)**: 10 bins with ~50 elements per bin (might not be exactly 20 since if there are repeating values around the edge of the bin, Pandas will put all the equal values in the same bin)\n",
        " \n",
        "Find a function/functions that splits the numbers into groups.  Don't need to actually create separate groups, but show that the correct split was done in each case (for example by using `value_counts`)"
      ]
    },
    {
      "cell_type": "code",
      "metadata": {
        "id": "BgfR0GBcqrBw",
        "colab": {
          "base_uri": "https://localhost:8080/"
        },
        "outputId": "9e4acd74-57f8-462c-fb6b-e158e8bb8e2d"
      },
      "source": [
        "series_q6 = pd.Series(np.random.randint(0, 51, size=500))\n",
        "series=pd.qcut(series_q6,q=10).value_counts()\n",
        "print(series)\n",
        "#your code here"
      ],
      "execution_count": 24,
      "outputs": [
        {
          "output_type": "stream",
          "text": [
            "(-0.001, 4.0]    58\n",
            "(30.4, 36.0]     55\n",
            "(42.0, 46.0]     50\n",
            "(36.0, 42.0]     50\n",
            "(19.0, 25.0]     50\n",
            "(10.0, 15.0]     50\n",
            "(4.0, 10.0]      49\n",
            "(15.0, 19.0]     47\n",
            "(25.0, 30.4]     46\n",
            "(46.0, 50.0]     45\n",
            "dtype: int64\n"
          ],
          "name": "stdout"
        }
      ]
    },
    {
      "cell_type": "markdown",
      "metadata": {
        "id": "CMGDtux9qrBw"
      },
      "source": [
        "## Question 7 - differences"
      ]
    },
    {
      "cell_type": "markdown",
      "metadata": {
        "id": "oMVznxDaqrBw"
      },
      "source": [
        "Calculate the **first** and **second** derivative of a pandas series (difference between consecutive numbers, and the difference between these diffrerences)"
      ]
    },
    {
      "cell_type": "code",
      "metadata": {
        "ExecuteTime": {
          "end_time": "2019-05-18T15:39:18.224727Z",
          "start_time": "2019-05-18T15:39:18.218742Z"
        },
        "id": "rufp2E-zqrBw",
        "colab": {
          "base_uri": "https://localhost:8080/"
        },
        "outputId": "d56a5f36-1222-4a72-f485-2d19eefd4cd6"
      },
      "source": [
        "series_q7 = pd.Series([1, 2, 5, 9, 18, 25, 32, 34, 55, 60])\n",
        "a=series_q7.diff\n",
        "print(a)\n",
        "#your code here"
      ],
      "execution_count": 25,
      "outputs": [
        {
          "output_type": "stream",
          "text": [
            "<bound method Series.diff of 0     1\n",
            "1     2\n",
            "2     5\n",
            "3     9\n",
            "4    18\n",
            "5    25\n",
            "6    32\n",
            "7    34\n",
            "8    55\n",
            "9    60\n",
            "dtype: int64>\n"
          ],
          "name": "stdout"
        }
      ]
    },
    {
      "cell_type": "markdown",
      "metadata": {
        "id": "cc45U1VqqrBw"
      },
      "source": [
        "## Question 8 - stacking"
      ]
    },
    {
      "cell_type": "markdown",
      "metadata": {
        "id": "bs1TDcNAqrBw"
      },
      "source": [
        "Stack two pandas series:\n",
        "1. Vertically - final shape (10,).  Make sure your index is unique after this operation!\n",
        "1. Horizontally - final shape (5,2)\n"
      ]
    },
    {
      "cell_type": "code",
      "metadata": {
        "ExecuteTime": {
          "end_time": "2019-05-18T15:33:12.833134Z",
          "start_time": "2019-05-18T15:33:12.817217Z"
        },
        "id": "Lt-BPsEsqrBx",
        "colab": {
          "base_uri": "https://localhost:8080/"
        },
        "outputId": "7144da0e-add1-4de4-ddca-c14f954f37c5"
      },
      "source": [
        "series_q8_1 = pd.Series(['a', 'b', 'c', 'd', 'e'])\n",
        "series_q8_2 = pd.Series([1,2,3,4,5])\n",
        "#your code here\n",
        "df = pd.concat([series_q8_1, series_q8_2], axis=0)\n",
        "print('Stacking Vertically\\n\\n',df)\n",
        "df1 = pd.concat([series_q8_1, series_q8_2], axis=1)\n",
        "print('Stacking Horizontally\\n\\n',df1)"
      ],
      "execution_count": 26,
      "outputs": [
        {
          "output_type": "stream",
          "text": [
            "Stacking Vertically\n",
            "\n",
            " 0    a\n",
            "1    b\n",
            "2    c\n",
            "3    d\n",
            "4    e\n",
            "0    1\n",
            "1    2\n",
            "2    3\n",
            "3    4\n",
            "4    5\n",
            "dtype: object\n",
            "Stacking Horizontally\n",
            "\n",
            "    0  1\n",
            "0  a  1\n",
            "1  b  2\n",
            "2  c  3\n",
            "3  d  4\n",
            "4  e  5\n"
          ],
          "name": "stdout"
        }
      ]
    },
    {
      "cell_type": "markdown",
      "metadata": {
        "id": "WT7bffkcqrBx"
      },
      "source": [
        "## Question 9 - merging"
      ]
    },
    {
      "cell_type": "markdown",
      "metadata": {
        "id": "6RNCjYmFqrBx"
      },
      "source": [
        "**In 1 command**:\n",
        "- Join the two given dataframes by 2 columns (which ones?)\n",
        "- Do it in a way that only the common rows are kept\n",
        "- Remove duplicate columns (meaning that all values are the same) to keep only one column.\n",
        "- For `price` column, give 2 versions of prices with names `price_1` and `price_2`"
      ]
    },
    {
      "cell_type": "code",
      "metadata": {
        "ExecuteTime": {
          "end_time": "2019-05-18T17:24:53.207938Z",
          "start_time": "2019-05-18T17:24:53.186993Z"
        },
        "id": "kL_fcuXfqrBx",
        "colab": {
          "base_uri": "https://localhost:8080/",
          "height": 418
        },
        "outputId": "bee3a320-bfa1-494f-dfba-b2d2098dc327"
      },
      "source": [
        "df_q9_1 = pd.DataFrame({'fruit': ['apple', 'banana', 'orange'] * 3,\n",
        "                    'weight': ['high', 'medium', 'low'] * 3,\n",
        "                    'price': np.random.randint(0, 15, 9)})\n",
        "\n",
        "df_q9_2 = pd.DataFrame({'pazham': ['apple', 'orange', 'pine'] * 2,\n",
        "                    'kilo': ['high', 'low'] * 3,\n",
        "                    'price': np.random.randint(0, 15, 6)})\n",
        "\n",
        "#your code here\n",
        "df_q9_1.merge(df_q9_2,left_on='fruit',right_on='pazham')"
      ],
      "execution_count": 27,
      "outputs": [
        {
          "output_type": "execute_result",
          "data": {
            "text/html": [
              "<div>\n",
              "<style scoped>\n",
              "    .dataframe tbody tr th:only-of-type {\n",
              "        vertical-align: middle;\n",
              "    }\n",
              "\n",
              "    .dataframe tbody tr th {\n",
              "        vertical-align: top;\n",
              "    }\n",
              "\n",
              "    .dataframe thead th {\n",
              "        text-align: right;\n",
              "    }\n",
              "</style>\n",
              "<table border=\"1\" class=\"dataframe\">\n",
              "  <thead>\n",
              "    <tr style=\"text-align: right;\">\n",
              "      <th></th>\n",
              "      <th>fruit</th>\n",
              "      <th>weight</th>\n",
              "      <th>price_x</th>\n",
              "      <th>pazham</th>\n",
              "      <th>kilo</th>\n",
              "      <th>price_y</th>\n",
              "    </tr>\n",
              "  </thead>\n",
              "  <tbody>\n",
              "    <tr>\n",
              "      <th>0</th>\n",
              "      <td>apple</td>\n",
              "      <td>high</td>\n",
              "      <td>7</td>\n",
              "      <td>apple</td>\n",
              "      <td>high</td>\n",
              "      <td>8</td>\n",
              "    </tr>\n",
              "    <tr>\n",
              "      <th>1</th>\n",
              "      <td>apple</td>\n",
              "      <td>high</td>\n",
              "      <td>7</td>\n",
              "      <td>apple</td>\n",
              "      <td>low</td>\n",
              "      <td>2</td>\n",
              "    </tr>\n",
              "    <tr>\n",
              "      <th>2</th>\n",
              "      <td>apple</td>\n",
              "      <td>high</td>\n",
              "      <td>4</td>\n",
              "      <td>apple</td>\n",
              "      <td>high</td>\n",
              "      <td>8</td>\n",
              "    </tr>\n",
              "    <tr>\n",
              "      <th>3</th>\n",
              "      <td>apple</td>\n",
              "      <td>high</td>\n",
              "      <td>4</td>\n",
              "      <td>apple</td>\n",
              "      <td>low</td>\n",
              "      <td>2</td>\n",
              "    </tr>\n",
              "    <tr>\n",
              "      <th>4</th>\n",
              "      <td>apple</td>\n",
              "      <td>high</td>\n",
              "      <td>2</td>\n",
              "      <td>apple</td>\n",
              "      <td>high</td>\n",
              "      <td>8</td>\n",
              "    </tr>\n",
              "    <tr>\n",
              "      <th>5</th>\n",
              "      <td>apple</td>\n",
              "      <td>high</td>\n",
              "      <td>2</td>\n",
              "      <td>apple</td>\n",
              "      <td>low</td>\n",
              "      <td>2</td>\n",
              "    </tr>\n",
              "    <tr>\n",
              "      <th>6</th>\n",
              "      <td>orange</td>\n",
              "      <td>low</td>\n",
              "      <td>4</td>\n",
              "      <td>orange</td>\n",
              "      <td>low</td>\n",
              "      <td>1</td>\n",
              "    </tr>\n",
              "    <tr>\n",
              "      <th>7</th>\n",
              "      <td>orange</td>\n",
              "      <td>low</td>\n",
              "      <td>4</td>\n",
              "      <td>orange</td>\n",
              "      <td>high</td>\n",
              "      <td>14</td>\n",
              "    </tr>\n",
              "    <tr>\n",
              "      <th>8</th>\n",
              "      <td>orange</td>\n",
              "      <td>low</td>\n",
              "      <td>6</td>\n",
              "      <td>orange</td>\n",
              "      <td>low</td>\n",
              "      <td>1</td>\n",
              "    </tr>\n",
              "    <tr>\n",
              "      <th>9</th>\n",
              "      <td>orange</td>\n",
              "      <td>low</td>\n",
              "      <td>6</td>\n",
              "      <td>orange</td>\n",
              "      <td>high</td>\n",
              "      <td>14</td>\n",
              "    </tr>\n",
              "    <tr>\n",
              "      <th>10</th>\n",
              "      <td>orange</td>\n",
              "      <td>low</td>\n",
              "      <td>6</td>\n",
              "      <td>orange</td>\n",
              "      <td>low</td>\n",
              "      <td>1</td>\n",
              "    </tr>\n",
              "    <tr>\n",
              "      <th>11</th>\n",
              "      <td>orange</td>\n",
              "      <td>low</td>\n",
              "      <td>6</td>\n",
              "      <td>orange</td>\n",
              "      <td>high</td>\n",
              "      <td>14</td>\n",
              "    </tr>\n",
              "  </tbody>\n",
              "</table>\n",
              "</div>"
            ],
            "text/plain": [
              "     fruit weight  price_x  pazham  kilo  price_y\n",
              "0    apple   high        7   apple  high        8\n",
              "1    apple   high        7   apple   low        2\n",
              "2    apple   high        4   apple  high        8\n",
              "3    apple   high        4   apple   low        2\n",
              "4    apple   high        2   apple  high        8\n",
              "5    apple   high        2   apple   low        2\n",
              "6   orange    low        4  orange   low        1\n",
              "7   orange    low        4  orange  high       14\n",
              "8   orange    low        6  orange   low        1\n",
              "9   orange    low        6  orange  high       14\n",
              "10  orange    low        6  orange   low        1\n",
              "11  orange    low        6  orange  high       14"
            ]
          },
          "metadata": {
            "tags": []
          },
          "execution_count": 27
        }
      ]
    },
    {
      "cell_type": "markdown",
      "metadata": {
        "id": "Ru7Bv_9BqrBx"
      },
      "source": [
        "## Question 10 - Pivoting and unpivoting"
      ]
    },
    {
      "cell_type": "markdown",
      "metadata": {
        "id": "NNyA98LsqrBx"
      },
      "source": [
        "### Question 10a - Unpivoting"
      ]
    },
    {
      "cell_type": "markdown",
      "metadata": {
        "id": "rqJmPWRqqrBx"
      },
      "source": [
        "If you are not familiar, read about **Pivoting** (moving data to wide format into columns) and **Unpivoting** (moving data to long format where columns are used as new rows) "
      ]
    },
    {
      "cell_type": "markdown",
      "metadata": {
        "id": "0sREesjQqrBy"
      },
      "source": [
        "Unpivot the given pandas dataframe from a wide format to a long format, leaving only the `Name` as the only column that's not unpivoted.\n",
        "\n",
        "Hint: Explore the `melt` function"
      ]
    },
    {
      "cell_type": "code",
      "metadata": {
        "ExecuteTime": {
          "end_time": "2019-05-18T17:49:00.613442Z",
          "start_time": "2019-05-18T17:49:00.602460Z"
        },
        "id": "_a_tJDwPqrBy",
        "colab": {
          "base_uri": "https://localhost:8080/",
          "height": 234
        },
        "outputId": "cccf9e1b-c565-490a-dad4-193fde58f38d"
      },
      "source": [
        "df_q10 = pd.DataFrame({'Name': {0: 'Danielle', 1: 'Dani', 2: 'Lior'}, \n",
        "                   'Course': {0: 'Masters', 1: 'Graduate', 2: 'Graduate'}, \n",
        "                   'Age': {0: 28, 1: 29, 2: 30}}) \n",
        "df_q10\n",
        "df1 = pd.melt(df_q10,id_vars=['Name'],value_vars=['Course','Age'])\n",
        "df1\n",
        "#Expected outcome:\n",
        "#    Name     Variable Value\n",
        "# 0  Danielle Course   Masters\n",
        "# 1  Dani     Course   Graduate\n",
        "# 2  Lior     Course   Graduate\n",
        "# 3  Danielle Age      28\n",
        "# 4  Dani     Age      29\n",
        "# 5  Lior     Age      30\n",
        "\n",
        "#your code here"
      ],
      "execution_count": 28,
      "outputs": [
        {
          "output_type": "execute_result",
          "data": {
            "text/html": [
              "<div>\n",
              "<style scoped>\n",
              "    .dataframe tbody tr th:only-of-type {\n",
              "        vertical-align: middle;\n",
              "    }\n",
              "\n",
              "    .dataframe tbody tr th {\n",
              "        vertical-align: top;\n",
              "    }\n",
              "\n",
              "    .dataframe thead th {\n",
              "        text-align: right;\n",
              "    }\n",
              "</style>\n",
              "<table border=\"1\" class=\"dataframe\">\n",
              "  <thead>\n",
              "    <tr style=\"text-align: right;\">\n",
              "      <th></th>\n",
              "      <th>Name</th>\n",
              "      <th>variable</th>\n",
              "      <th>value</th>\n",
              "    </tr>\n",
              "  </thead>\n",
              "  <tbody>\n",
              "    <tr>\n",
              "      <th>0</th>\n",
              "      <td>Danielle</td>\n",
              "      <td>Course</td>\n",
              "      <td>Masters</td>\n",
              "    </tr>\n",
              "    <tr>\n",
              "      <th>1</th>\n",
              "      <td>Dani</td>\n",
              "      <td>Course</td>\n",
              "      <td>Graduate</td>\n",
              "    </tr>\n",
              "    <tr>\n",
              "      <th>2</th>\n",
              "      <td>Lior</td>\n",
              "      <td>Course</td>\n",
              "      <td>Graduate</td>\n",
              "    </tr>\n",
              "    <tr>\n",
              "      <th>3</th>\n",
              "      <td>Danielle</td>\n",
              "      <td>Age</td>\n",
              "      <td>28</td>\n",
              "    </tr>\n",
              "    <tr>\n",
              "      <th>4</th>\n",
              "      <td>Dani</td>\n",
              "      <td>Age</td>\n",
              "      <td>29</td>\n",
              "    </tr>\n",
              "    <tr>\n",
              "      <th>5</th>\n",
              "      <td>Lior</td>\n",
              "      <td>Age</td>\n",
              "      <td>30</td>\n",
              "    </tr>\n",
              "  </tbody>\n",
              "</table>\n",
              "</div>"
            ],
            "text/plain": [
              "       Name variable     value\n",
              "0  Danielle   Course   Masters\n",
              "1      Dani   Course  Graduate\n",
              "2      Lior   Course  Graduate\n",
              "3  Danielle      Age        28\n",
              "4      Dani      Age        29\n",
              "5      Lior      Age        30"
            ]
          },
          "metadata": {
            "tags": []
          },
          "execution_count": 28
        }
      ]
    },
    {
      "cell_type": "markdown",
      "metadata": {
        "id": "lvnQdWaVqrBy"
      },
      "source": [
        "### Question 10b - Pivoting"
      ]
    },
    {
      "cell_type": "markdown",
      "metadata": {
        "id": "fT9MVb5uqrBy"
      },
      "source": [
        "Take the outcome dataframe from Question 10a and return it to **exactly** it's original form (with pivoting)"
      ]
    },
    {
      "cell_type": "code",
      "metadata": {
        "ExecuteTime": {
          "end_time": "2019-05-18T17:49:49.748324Z",
          "start_time": "2019-05-18T17:49:49.736396Z"
        },
        "id": "JX0m0qFLqrBy",
        "colab": {
          "base_uri": "https://localhost:8080/",
          "height": 172
        },
        "outputId": "171a9ea5-aca4-4392-dcd6-d29ba7b1fafd"
      },
      "source": [
        "#your code here\n",
        "df1.pivot(index=\"Name\", columns=[\"variable\"],values=\"value\")"
      ],
      "execution_count": 29,
      "outputs": [
        {
          "output_type": "execute_result",
          "data": {
            "text/html": [
              "<div>\n",
              "<style scoped>\n",
              "    .dataframe tbody tr th:only-of-type {\n",
              "        vertical-align: middle;\n",
              "    }\n",
              "\n",
              "    .dataframe tbody tr th {\n",
              "        vertical-align: top;\n",
              "    }\n",
              "\n",
              "    .dataframe thead th {\n",
              "        text-align: right;\n",
              "    }\n",
              "</style>\n",
              "<table border=\"1\" class=\"dataframe\">\n",
              "  <thead>\n",
              "    <tr style=\"text-align: right;\">\n",
              "      <th>variable</th>\n",
              "      <th>Age</th>\n",
              "      <th>Course</th>\n",
              "    </tr>\n",
              "    <tr>\n",
              "      <th>Name</th>\n",
              "      <th></th>\n",
              "      <th></th>\n",
              "    </tr>\n",
              "  </thead>\n",
              "  <tbody>\n",
              "    <tr>\n",
              "      <th>Dani</th>\n",
              "      <td>29</td>\n",
              "      <td>Graduate</td>\n",
              "    </tr>\n",
              "    <tr>\n",
              "      <th>Danielle</th>\n",
              "      <td>28</td>\n",
              "      <td>Masters</td>\n",
              "    </tr>\n",
              "    <tr>\n",
              "      <th>Lior</th>\n",
              "      <td>30</td>\n",
              "      <td>Graduate</td>\n",
              "    </tr>\n",
              "  </tbody>\n",
              "</table>\n",
              "</div>"
            ],
            "text/plain": [
              "variable Age    Course\n",
              "Name                  \n",
              "Dani      29  Graduate\n",
              "Danielle  28   Masters\n",
              "Lior      30  Graduate"
            ]
          },
          "metadata": {
            "tags": []
          },
          "execution_count": 29
        }
      ]
    },
    {
      "cell_type": "markdown",
      "metadata": {
        "id": "YT9ByjoCqrBy"
      },
      "source": [
        "# Topic - Sorting, indexing"
      ]
    },
    {
      "cell_type": "markdown",
      "metadata": {
        "id": "ZNkehHaLqrBy"
      },
      "source": [
        "## Question 11"
      ]
    },
    {
      "cell_type": "markdown",
      "metadata": {
        "id": "l1gpfKHvqrBy"
      },
      "source": [
        "Using the dataframe of `cars` from `https://raw.githubusercontent.com/selva86/datasets/master/Cars93_miss.csv` \n",
        " 1. Print maximum value of the column `EngineSize`.\n",
        " 2. Print how many cars are there with this value\n",
        " 3. Get the row number, of the **first instance** of largest value in the column \"EngineSize\". \n",
        " 4. Print the row you got"
      ]
    },
    {
      "cell_type": "code",
      "metadata": {
        "colab": {
          "base_uri": "https://localhost:8080/"
        },
        "id": "RtWKVzgBqrBy",
        "outputId": "d551ff32-930e-4861-faa5-64199dec7ade"
      },
      "source": [
        "df=pd.read_csv('https://raw.githubusercontent.com/selva86/datasets/master/Cars93_miss.csv')\n",
        "df\n",
        "print('max ', df.EngineSize.max())\n",
        "print(df[df['EngineSize']==5.7].Model)\n"
      ],
      "execution_count": 30,
      "outputs": [
        {
          "output_type": "stream",
          "text": [
            "max  5.7\n",
            "7     Roadmaster\n",
            "18      Corvette\n",
            "Name: Model, dtype: object\n"
          ],
          "name": "stdout"
        }
      ]
    },
    {
      "cell_type": "markdown",
      "metadata": {
        "id": "e3TDju6yqrBy"
      },
      "source": [
        "## Question 12"
      ]
    },
    {
      "cell_type": "markdown",
      "metadata": {
        "id": "yJL0FbcAqrBy"
      },
      "source": [
        "Take the 4th largest **unique** **not NaN** `EngineSize` value, and print all the cars with this `EngineSize`  "
      ]
    },
    {
      "cell_type": "code",
      "metadata": {
        "colab": {
          "base_uri": "https://localhost:8080/"
        },
        "id": "6gc9_ga1qrBz",
        "outputId": "bdb45895-e41d-4614-bacc-5dc0903ae3c7"
      },
      "source": [
        "EngineSize=df.iloc[:,11:12].sort_values(by='EngineSize')\n",
        "print(EngineSize[3:4])\n"
      ],
      "execution_count": 31,
      "outputs": [
        {
          "output_type": "stream",
          "text": [
            "    EngineSize\n",
            "56         1.3\n"
          ],
          "name": "stdout"
        }
      ]
    }
  ]
}